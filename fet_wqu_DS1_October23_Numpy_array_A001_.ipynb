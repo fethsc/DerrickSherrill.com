{
  "nbformat": 4,
  "nbformat_minor": 0,
  "metadata": {
    "colab": {
      "name": "fet_wqu_DS1_October23_Numpy_array_A001_.ipynb",
      "provenance": [],
      "collapsed_sections": [],
      "include_colab_link": true
    },
    "kernelspec": {
      "name": "python3",
      "display_name": "Python 3"
    }
  },
  "cells": [
    {
      "cell_type": "markdown",
      "metadata": {
        "id": "view-in-github",
        "colab_type": "text"
      },
      "source": [
        "<a href=\"https://colab.research.google.com/github/fethsc/DerrickSherrill.com/blob/master/fet_wqu_DS1_October23_Numpy_array_A001_.ipynb\" target=\"_parent\"><img src=\"https://colab.research.google.com/assets/colab-badge.svg\" alt=\"Open In Colab\"/></a>"
      ]
    },
    {
      "cell_type": "code",
      "metadata": {
        "id": "C7RsMQ6Un-MZ",
        "colab_type": "code",
        "colab": {}
      },
      "source": [
        "import pandas as pd\n",
        "import numpy as np"
      ],
      "execution_count": 0,
      "outputs": []
    },
    {
      "cell_type": "code",
      "metadata": {
        "id": "w3CE72nQoVui",
        "colab_type": "code",
        "colab": {}
      },
      "source": [
        "def make_matrix(n_rows, n_cols):\n",
        "    return [range(n_cols*i, n_cols*(1+i)) for i in range(n_rows)]"
      ],
      "execution_count": 0,
      "outputs": []
    },
    {
      "cell_type": "code",
      "metadata": {
        "id": "KcT_wdUbpiwl",
        "colab_type": "code",
        "colab": {
          "base_uri": "https://localhost:8080/",
          "height": 34
        },
        "outputId": "bd72b45e-21fc-4f14-f598-299e8fe4e11d"
      },
      "source": [
        "make_matrix(4, 4)"
      ],
      "execution_count": 9,
      "outputs": [
        {
          "output_type": "execute_result",
          "data": {
            "text/plain": [
              "[range(0, 4), range(4, 8), range(8, 12), range(12, 16)]"
            ]
          },
          "metadata": {
            "tags": []
          },
          "execution_count": 9
        }
      ]
    },
    {
      "cell_type": "code",
      "metadata": {
        "id": "-fKBkAMLqxRc",
        "colab_type": "code",
        "colab": {
          "base_uri": "https://localhost:8080/",
          "height": 34
        },
        "outputId": "95030344-ce62-4374-9cb9-c8291a66c1f8"
      },
      "source": [
        "[list(range(10))]"
      ],
      "execution_count": 10,
      "outputs": [
        {
          "output_type": "execute_result",
          "data": {
            "text/plain": [
              "[[0, 1, 2, 3, 4, 5, 6, 7, 8, 9]]"
            ]
          },
          "metadata": {
            "tags": []
          },
          "execution_count": 10
        }
      ]
    },
    {
      "cell_type": "code",
      "metadata": {
        "id": "C63gubIXrFrr",
        "colab_type": "code",
        "colab": {}
      },
      "source": [
        "def matrix(n_rows, n_cols):\n",
        "    return [list(range(n_cols*i, n_cols*(1+i))) for i in range((n_rows))]"
      ],
      "execution_count": 0,
      "outputs": []
    },
    {
      "cell_type": "code",
      "metadata": {
        "id": "SJK4SSHNrmVQ",
        "colab_type": "code",
        "colab": {
          "base_uri": "https://localhost:8080/",
          "height": 102
        },
        "outputId": "836c0db2-050c-4056-bb00-3cc154e1ee22"
      },
      "source": [
        "matrix(5, 5)"
      ],
      "execution_count": 19,
      "outputs": [
        {
          "output_type": "execute_result",
          "data": {
            "text/plain": [
              "[[0, 1, 2, 3, 4],\n",
              " [5, 6, 7, 8, 9],\n",
              " [10, 11, 12, 13, 14],\n",
              " [15, 16, 17, 18, 19],\n",
              " [20, 21, 22, 23, 24]]"
            ]
          },
          "metadata": {
            "tags": []
          },
          "execution_count": 19
        }
      ]
    },
    {
      "cell_type": "code",
      "metadata": {
        "id": "L0NkylLdsnG0",
        "colab_type": "code",
        "colab": {
          "base_uri": "https://localhost:8080/",
          "height": 34
        },
        "outputId": "afeab687-681d-4be2-b6d0-98b46067289f"
      },
      "source": [
        "matrix(3, 3)"
      ],
      "execution_count": 20,
      "outputs": [
        {
          "output_type": "execute_result",
          "data": {
            "text/plain": [
              "[[0, 1, 2], [3, 4, 5], [6, 7, 8]]"
            ]
          },
          "metadata": {
            "tags": []
          },
          "execution_count": 20
        }
      ]
    },
    {
      "cell_type": "code",
      "metadata": {
        "id": "c9oeyKDCssKv",
        "colab_type": "code",
        "colab": {
          "base_uri": "https://localhost:8080/",
          "height": 34
        },
        "outputId": "f87c549c-cbbf-4ee8-9656-2f8a8b0cf807"
      },
      "source": [
        "matrix(4, 4)"
      ],
      "execution_count": 21,
      "outputs": [
        {
          "output_type": "execute_result",
          "data": {
            "text/plain": [
              "[[0, 1, 2, 3], [4, 5, 6, 7], [8, 9, 10, 11], [12, 13, 14, 15]]"
            ]
          },
          "metadata": {
            "tags": []
          },
          "execution_count": 21
        }
      ]
    },
    {
      "cell_type": "code",
      "metadata": {
        "id": "7-wiErt8swVm",
        "colab_type": "code",
        "colab": {}
      },
      "source": [
        "my_matrix = matrix(40, 4)"
      ],
      "execution_count": 0,
      "outputs": []
    },
    {
      "cell_type": "code",
      "metadata": {
        "id": "QyGjEROttJZ8",
        "colab_type": "code",
        "colab": {
          "base_uri": "https://localhost:8080/",
          "height": 697
        },
        "outputId": "b966282b-88ef-4be0-ca70-a905f28e5e08"
      },
      "source": [
        "my_matrix"
      ],
      "execution_count": 24,
      "outputs": [
        {
          "output_type": "execute_result",
          "data": {
            "text/plain": [
              "[[0, 1, 2, 3],\n",
              " [4, 5, 6, 7],\n",
              " [8, 9, 10, 11],\n",
              " [12, 13, 14, 15],\n",
              " [16, 17, 18, 19],\n",
              " [20, 21, 22, 23],\n",
              " [24, 25, 26, 27],\n",
              " [28, 29, 30, 31],\n",
              " [32, 33, 34, 35],\n",
              " [36, 37, 38, 39],\n",
              " [40, 41, 42, 43],\n",
              " [44, 45, 46, 47],\n",
              " [48, 49, 50, 51],\n",
              " [52, 53, 54, 55],\n",
              " [56, 57, 58, 59],\n",
              " [60, 61, 62, 63],\n",
              " [64, 65, 66, 67],\n",
              " [68, 69, 70, 71],\n",
              " [72, 73, 74, 75],\n",
              " [76, 77, 78, 79],\n",
              " [80, 81, 82, 83],\n",
              " [84, 85, 86, 87],\n",
              " [88, 89, 90, 91],\n",
              " [92, 93, 94, 95],\n",
              " [96, 97, 98, 99],\n",
              " [100, 101, 102, 103],\n",
              " [104, 105, 106, 107],\n",
              " [108, 109, 110, 111],\n",
              " [112, 113, 114, 115],\n",
              " [116, 117, 118, 119],\n",
              " [120, 121, 122, 123],\n",
              " [124, 125, 126, 127],\n",
              " [128, 129, 130, 131],\n",
              " [132, 133, 134, 135],\n",
              " [136, 137, 138, 139],\n",
              " [140, 141, 142, 143],\n",
              " [144, 145, 146, 147],\n",
              " [148, 149, 150, 151],\n",
              " [152, 153, 154, 155],\n",
              " [156, 157, 158, 159]]"
            ]
          },
          "metadata": {
            "tags": []
          },
          "execution_count": 24
        }
      ]
    },
    {
      "cell_type": "code",
      "metadata": {
        "id": "VS_40kKHtNOw",
        "colab_type": "code",
        "colab": {
          "base_uri": "https://localhost:8080/",
          "height": 34
        },
        "outputId": "36b1439e-2b7c-4be0-85b2-304c9d48f850"
      },
      "source": [
        "my_matrix[30][2]"
      ],
      "execution_count": 26,
      "outputs": [
        {
          "output_type": "execute_result",
          "data": {
            "text/plain": [
              "122"
            ]
          },
          "metadata": {
            "tags": []
          },
          "execution_count": 26
        }
      ]
    },
    {
      "cell_type": "code",
      "metadata": {
        "id": "fm299lF_tlq6",
        "colab_type": "code",
        "colab": {
          "base_uri": "https://localhost:8080/",
          "height": 34
        },
        "outputId": "b5c9911f-5f2b-4fd3-dd7b-2f9318dc395b"
      },
      "source": [
        "my_matrix[31][3]"
      ],
      "execution_count": 27,
      "outputs": [
        {
          "output_type": "execute_result",
          "data": {
            "text/plain": [
              "127"
            ]
          },
          "metadata": {
            "tags": []
          },
          "execution_count": 27
        }
      ]
    },
    {
      "cell_type": "code",
      "metadata": {
        "id": "hirkCrR2s61z",
        "colab_type": "code",
        "colab": {
          "base_uri": "https://localhost:8080/",
          "height": 34
        },
        "outputId": "6f901c90-74ee-40ac-ca4f-b9b2ec08d964"
      },
      "source": [
        "range(3)"
      ],
      "execution_count": 28,
      "outputs": [
        {
          "output_type": "execute_result",
          "data": {
            "text/plain": [
              "range(0, 3)"
            ]
          },
          "metadata": {
            "tags": []
          },
          "execution_count": 28
        }
      ]
    },
    {
      "cell_type": "code",
      "metadata": {
        "id": "LxhvEbJXvdmj",
        "colab_type": "code",
        "colab": {
          "base_uri": "https://localhost:8080/",
          "height": 34
        },
        "outputId": "9f2e0e5c-f4e0-4d83-8b50-f2518ea8a229"
      },
      "source": [
        "range(5)"
      ],
      "execution_count": 29,
      "outputs": [
        {
          "output_type": "execute_result",
          "data": {
            "text/plain": [
              "range(0, 5)"
            ]
          },
          "metadata": {
            "tags": []
          },
          "execution_count": 29
        }
      ]
    },
    {
      "cell_type": "code",
      "metadata": {
        "id": "rLok0KOAvjWP",
        "colab_type": "code",
        "colab": {
          "base_uri": "https://localhost:8080/",
          "height": 34
        },
        "outputId": "4d038475-f65d-4da0-c765-141c4f5b6b6a"
      },
      "source": [
        "list(range(5))"
      ],
      "execution_count": 30,
      "outputs": [
        {
          "output_type": "execute_result",
          "data": {
            "text/plain": [
              "[0, 1, 2, 3, 4]"
            ]
          },
          "metadata": {
            "tags": []
          },
          "execution_count": 30
        }
      ]
    },
    {
      "cell_type": "code",
      "metadata": {
        "id": "txcA3737yPV7",
        "colab_type": "code",
        "colab": {
          "base_uri": "https://localhost:8080/",
          "height": 34
        },
        "outputId": "2dcedbf9-5c4f-40f1-e896-7021d6535073"
      },
      "source": [
        "list(range(0))"
      ],
      "execution_count": 36,
      "outputs": [
        {
          "output_type": "execute_result",
          "data": {
            "text/plain": [
              "[]"
            ]
          },
          "metadata": {
            "tags": []
          },
          "execution_count": 36
        }
      ]
    },
    {
      "cell_type": "code",
      "metadata": {
        "id": "G4dvXYRX0VKG",
        "colab_type": "code",
        "colab": {
          "base_uri": "https://localhost:8080/",
          "height": 34
        },
        "outputId": "55266211-141a-49b1-9755-e76303a3b881"
      },
      "source": [
        "list(range(1))"
      ],
      "execution_count": 37,
      "outputs": [
        {
          "output_type": "execute_result",
          "data": {
            "text/plain": [
              "[0]"
            ]
          },
          "metadata": {
            "tags": []
          },
          "execution_count": 37
        }
      ]
    },
    {
      "cell_type": "code",
      "metadata": {
        "id": "niKIT-fg0jIf",
        "colab_type": "code",
        "colab": {
          "base_uri": "https://localhost:8080/",
          "height": 34
        },
        "outputId": "7ada5703-afd5-4130-a968-10feb2159d9a"
      },
      "source": [
        "range(2)"
      ],
      "execution_count": 33,
      "outputs": [
        {
          "output_type": "execute_result",
          "data": {
            "text/plain": [
              "range(0, 2)"
            ]
          },
          "metadata": {
            "tags": []
          },
          "execution_count": 33
        }
      ]
    },
    {
      "cell_type": "code",
      "metadata": {
        "id": "gPan29Lc0s33",
        "colab_type": "code",
        "colab": {
          "base_uri": "https://localhost:8080/",
          "height": 34
        },
        "outputId": "fd26fe23-395f-4b99-e5a4-68b37f15bbc7"
      },
      "source": [
        "range(3)"
      ],
      "execution_count": 34,
      "outputs": [
        {
          "output_type": "execute_result",
          "data": {
            "text/plain": [
              "range(0, 3)"
            ]
          },
          "metadata": {
            "tags": []
          },
          "execution_count": 34
        }
      ]
    },
    {
      "cell_type": "code",
      "metadata": {
        "id": "J2SaYQlH1EVv",
        "colab_type": "code",
        "colab": {
          "base_uri": "https://localhost:8080/",
          "height": 34
        },
        "outputId": "8355ebf4-2e13-427f-ba6f-e14d6c392325"
      },
      "source": [
        "range(4)"
      ],
      "execution_count": 35,
      "outputs": [
        {
          "output_type": "execute_result",
          "data": {
            "text/plain": [
              "range(0, 4)"
            ]
          },
          "metadata": {
            "tags": []
          },
          "execution_count": 35
        }
      ]
    },
    {
      "cell_type": "code",
      "metadata": {
        "id": "DQ0qWdpe3aMo",
        "colab_type": "code",
        "colab": {
          "base_uri": "https://localhost:8080/",
          "height": 34
        },
        "outputId": "725dc331-4c85-46db-e0d1-2255f7b5480b"
      },
      "source": [
        "set(range(4))"
      ],
      "execution_count": 38,
      "outputs": [
        {
          "output_type": "execute_result",
          "data": {
            "text/plain": [
              "{0, 1, 2, 3}"
            ]
          },
          "metadata": {
            "tags": []
          },
          "execution_count": 38
        }
      ]
    },
    {
      "cell_type": "code",
      "metadata": {
        "id": "UWygE0ps3gWp",
        "colab_type": "code",
        "colab": {
          "base_uri": "https://localhost:8080/",
          "height": 34
        },
        "outputId": "a03a5854-7577-44d2-b853-848d32494c8f"
      },
      "source": [
        "type(set(range(4)))"
      ],
      "execution_count": 40,
      "outputs": [
        {
          "output_type": "execute_result",
          "data": {
            "text/plain": [
              "set"
            ]
          },
          "metadata": {
            "tags": []
          },
          "execution_count": 40
        }
      ]
    },
    {
      "cell_type": "code",
      "metadata": {
        "id": "JwIhrfC558eC",
        "colab_type": "code",
        "colab": {
          "base_uri": "https://localhost:8080/",
          "height": 34
        },
        "outputId": "ca13ce8e-95fc-4a61-ea53-67c878153b71"
      },
      "source": [
        "sum([sum(row) for row in my_matrix])"
      ],
      "execution_count": 41,
      "outputs": [
        {
          "output_type": "execute_result",
          "data": {
            "text/plain": [
              "12720"
            ]
          },
          "metadata": {
            "tags": []
          },
          "execution_count": 41
        }
      ]
    },
    {
      "cell_type": "code",
      "metadata": {
        "id": "iuTDRwpP86d-",
        "colab_type": "code",
        "colab": {
          "base_uri": "https://localhost:8080/",
          "height": 697
        },
        "outputId": "dd2fbfb9-8f61-4bbd-bb5a-98b78858066c"
      },
      "source": [
        "[sum(row) for row in my_matrix]"
      ],
      "execution_count": 43,
      "outputs": [
        {
          "output_type": "execute_result",
          "data": {
            "text/plain": [
              "[6,\n",
              " 22,\n",
              " 38,\n",
              " 54,\n",
              " 70,\n",
              " 86,\n",
              " 102,\n",
              " 118,\n",
              " 134,\n",
              " 150,\n",
              " 166,\n",
              " 182,\n",
              " 198,\n",
              " 214,\n",
              " 230,\n",
              " 246,\n",
              " 262,\n",
              " 278,\n",
              " 294,\n",
              " 310,\n",
              " 326,\n",
              " 342,\n",
              " 358,\n",
              " 374,\n",
              " 390,\n",
              " 406,\n",
              " 422,\n",
              " 438,\n",
              " 454,\n",
              " 470,\n",
              " 486,\n",
              " 502,\n",
              " 518,\n",
              " 534,\n",
              " 550,\n",
              " 566,\n",
              " 582,\n",
              " 598,\n",
              " 614,\n",
              " 630]"
            ]
          },
          "metadata": {
            "tags": []
          },
          "execution_count": 43
        }
      ]
    },
    {
      "cell_type": "code",
      "metadata": {
        "id": "9O5cAcWd-tnN",
        "colab_type": "code",
        "colab": {
          "base_uri": "https://localhost:8080/",
          "height": 34
        },
        "outputId": "e7824f10-6906-47d2-99b3-1d481d0257f0"
      },
      "source": [
        "sum([sum(row) for row in my_matrix])"
      ],
      "execution_count": 45,
      "outputs": [
        {
          "output_type": "execute_result",
          "data": {
            "text/plain": [
              "12720"
            ]
          },
          "metadata": {
            "tags": []
          },
          "execution_count": 45
        }
      ]
    }
  ]
}